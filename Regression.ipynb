{
 "cells": [
  {
   "cell_type": "code",
   "execution_count": 1,
   "id": "855a44e5",
   "metadata": {},
   "outputs": [
    {
     "name": "stdout",
     "output_type": "stream",
     "text": [
      "['The']\n"
     ]
    }
   ],
   "source": [
    "import re\n",
    "txt = \"The rain in Germany\"\n",
    "x = re.findall(\"\\AThe\", txt)\n",
    "print(x)"
   ]
  },
  {
   "cell_type": "code",
   "execution_count": 2,
   "id": "1b6b8e90",
   "metadata": {},
   "outputs": [
    {
     "name": "stdout",
     "output_type": "stream",
     "text": [
      "Yes, there is a match!\n"
     ]
    }
   ],
   "source": [
    "if x:\n",
    " print(\"Yes, there is a match!\")\n",
    "else:\n",
    " print(\"No match\")"
   ]
  },
  {
   "cell_type": "code",
   "execution_count": 4,
   "id": "dc6cdf15",
   "metadata": {},
   "outputs": [
    {
     "name": "stdout",
     "output_type": "stream",
     "text": [
      "<re.Match object; span=(21, 27), match='portal'>\n",
      "portal\n",
      "Start Index: 21\n",
      "End Index: 27\n"
     ]
    }
   ],
   "source": [
    "match = re.search(r'portal', 'A computer science \\ portal for Education')\n",
    "print(match)\n",
    "print(match.group())\n",
    "print('Start Index:', match.start())\n",
    "print('End Index:', match.end())"
   ]
  },
  {
   "cell_type": "code",
   "execution_count": 5,
   "id": "348d52bc",
   "metadata": {},
   "outputs": [
    {
     "name": "stdout",
     "output_type": "stream",
     "text": [
      "['Education', 'education', 'education']\n"
     ]
    }
   ],
   "source": [
    "print(re.findall(r'[Ee]ducation', 'Education of education: \\ A computer science portal for education'))\n"
   ]
  },
  {
   "cell_type": "code",
   "execution_count": 6,
   "id": "98417d9d",
   "metadata": {},
   "outputs": [
    {
     "name": "stdout",
     "output_type": "stream",
     "text": [
      "Range <re.Match object; span=(0, 1), match='x'>\n"
     ]
    }
   ],
   "source": [
    "print('Range',re.search(r'[a-zA-Z]', 'x'))"
   ]
  },
  {
   "cell_type": "code",
   "execution_count": 7,
   "id": "6259ad7b",
   "metadata": {},
   "outputs": [
    {
     "name": "stdout",
     "output_type": "stream",
     "text": [
      "None\n"
     ]
    }
   ],
   "source": [
    "print(re.search(r'[^a-z]', 'c'))"
   ]
  },
  {
   "cell_type": "code",
   "execution_count": 9,
   "id": "3e630be1",
   "metadata": {},
   "outputs": [
    {
     "name": "stdout",
     "output_type": "stream",
     "text": [
      "Beg. of String: None\n",
      "Beg. of String: <re.Match object; span=(0, 2), match='is'>\n",
      "End of String: <re.Match object; span=(27, 36), match='education'>\n"
     ]
    }
   ],
   "source": [
    "match = re.search(r'^is', 'This is the month')\n",
    "print('Beg. of String:', match)\n",
    "match = re.search(r'^is', 'is the month')\n",
    "print('Beg. of String:', match)\n",
    "match = re.search(r'education$', 'Compute science portal for education')\n",
    "print('End of String:', match)"
   ]
  },
  {
   "cell_type": "code",
   "execution_count": 12,
   "id": "f113ac09",
   "metadata": {
    "scrolled": true
   },
   "outputs": [
    {
     "name": "stdout",
     "output_type": "stream",
     "text": [
      "Color <re.Match object; span=(0, 5), match='color'>\n",
      "Colour <re.Match object; span=(0, 6), match='colour'>\n",
      "Date{mm-dd-yyyy}: <re.Match object; span=(0, 10), match='13-07-2023'>\n"
     ]
    }
   ],
   "source": [
    "print('Color',re.search(r'colou?r', 'color'))\n",
    "print('Colour',re.search(r'colou?r', 'colour'))\n",
    "print('Date{mm-dd-yyyy}:', re.search(r'[\\d]{2}-[\\d]{2}-[\\d]{4}','13-07-2023'))"
   ]
  },
  {
   "cell_type": "code",
   "execution_count": 15,
   "id": "fb884cef",
   "metadata": {},
   "outputs": [
    {
     "name": "stdout",
     "output_type": "stream",
     "text": [
      "<re.Match object; span=(0, 1), match='5'>\n",
      "('14', '07', '2023')\n",
      "2023\n"
     ]
    }
   ],
   "source": [
    "print(re.search(r'[\\d]+','5th Floor, B-218,\\Sector-136, Noida, Uttar Pradesh - 201405'))\n",
    "grp = re.search(r'([\\d]{2})-([\\d]{2})-([\\d]{4})','14-07-2023')\n",
    "print(grp.groups())\n",
    "\n",
    "grp = re.search(r'([\\d]{2})-([\\d]{2})-([\\d]{4})','14-07-2023')\n",
    "print(grp.group(3))"
   ]
  },
  {
   "cell_type": "code",
   "execution_count": 16,
   "id": "19dc5a18",
   "metadata": {},
   "outputs": [
    {
     "name": "stdout",
     "output_type": "stream",
     "text": [
      "negation: None\n",
      "lookahead: <re.Match object; span=(5, 6), match='n'>\n"
     ]
    }
   ],
   "source": [
    "print('negation:', re.search(r'n[^e]', 'Python'))\n",
    "print('lookahead:', re.search(r'n(?!e)', 'Python'))"
   ]
  },
  {
   "cell_type": "code",
   "execution_count": 17,
   "id": "d2e78bbb",
   "metadata": {},
   "outputs": [
    {
     "name": "stdout",
     "output_type": "stream",
     "text": [
      "1111222233334444\n"
     ]
    }
   ],
   "source": [
    "print(re.sub(r'([\\d]{4})-([\\d]{4})-([\\d]{4})-([\\d]{4})',r'\\1\\2\\3\\4',\n",
    " '1111-2222-3333-4444'))"
   ]
  },
  {
   "cell_type": "code",
   "execution_count": 18,
   "id": "38527a68",
   "metadata": {},
   "outputs": [
    {
     "name": "stdout",
     "output_type": "stream",
     "text": [
      "compiled reg expr <re.Match object; span=(0, 10), match='13-07-2023'>\n",
      "13.07.2023\n"
     ]
    }
   ],
   "source": [
    "regex = re.compile(r'([\\d]{2})-([\\d]{2})-([\\d]{4})')\n",
    "print('compiled reg expr', regex.search('13-07-2023'))\n",
    "print(regex.sub(r'\\1.\\2.\\3', '13-07-2023'))"
   ]
  },
  {
   "cell_type": "code",
   "execution_count": null,
   "id": "0dbe9875",
   "metadata": {},
   "outputs": [],
   "source": []
  }
 ],
 "metadata": {
  "kernelspec": {
   "display_name": "Python 3 (ipykernel)",
   "language": "python",
   "name": "python3"
  },
  "language_info": {
   "codemirror_mode": {
    "name": "ipython",
    "version": 3
   },
   "file_extension": ".py",
   "mimetype": "text/x-python",
   "name": "python",
   "nbconvert_exporter": "python",
   "pygments_lexer": "ipython3",
   "version": "3.8.10"
  }
 },
 "nbformat": 4,
 "nbformat_minor": 5
}
