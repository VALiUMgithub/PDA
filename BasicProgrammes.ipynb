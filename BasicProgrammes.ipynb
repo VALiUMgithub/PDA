{
  "metadata": {
    "language_info": {
      "codemirror_mode": {
        "name": "python",
        "version": 3
      },
      "file_extension": ".py",
      "mimetype": "text/x-python",
      "name": "python",
      "nbconvert_exporter": "python",
      "pygments_lexer": "ipython3",
      "version": "3.8"
    },
    "kernelspec": {
      "name": "python",
      "display_name": "Python (Pyodide)",
      "language": "python"
    }
  },
  "nbformat_minor": 4,
  "nbformat": 4,
  "cells": [
    {
      "cell_type": "code",
      "source": "def fibonacci_sequence(n):\n    sequence = [0, 1] \n\n    if n <= 0:\n        return []\n\n    while len(sequence) < n:\n        next_num = sequence[-1] + sequence[-2]\n        sequence.append(next_num)\n\n    return sequence\n\nprint(fibonacci_sequence(10)) \nprint(fibonacci_sequence(8))\nprint(fibonacci_sequence(5))\n",
      "metadata": {
        "trusted": true
      },
      "execution_count": 2,
      "outputs": [
        {
          "name": "stdout",
          "text": "[0, 1, 1, 2, 3, 5, 8, 13, 21, 34]\n[0, 1, 1, 2, 3, 5, 8, 13]\n[0, 1, 1, 2, 3]\n",
          "output_type": "stream"
        }
      ]
    },
    {
      "cell_type": "code",
      "source": "def factorial(n):\n    if n == 0:\n        return 1\n\n    result = 1\n    for i in range(1, n + 1):\n        result *= i\n\n    return result\n\nprint(factorial(5))\nprint(factorial(6))\nprint(factorial(10))\nprint(factorial(4))\n",
      "metadata": {
        "trusted": true
      },
      "execution_count": 3,
      "outputs": [
        {
          "name": "stdout",
          "text": "120\n720\n3628800\n24\n",
          "output_type": "stream"
        }
      ]
    },
    {
      "cell_type": "code",
      "source": "def is_palindrome(num):\n    original_num = num\n    reverse_num = 0\n\n    while num > 0:\n        last_digit = num % 10\n        reverse_num = reverse_num * 10 + last_digit\n        num = num // 10\n\n    return original_num == reverse_num\n\n\n# Example usage:\nprint(is_palindrome(12321)) \nprint(is_palindrome(12345))  \nprint(is_palindrome(987654321))  \nprint(is_palindrome(123456789))\n",
      "metadata": {
        "trusted": true
      },
      "execution_count": 4,
      "outputs": [
        {
          "name": "stdout",
          "text": "True\nFalse\nFalse\nFalse\n",
          "output_type": "stream"
        }
      ]
    },
    {
      "cell_type": "code",
      "source": "",
      "metadata": {},
      "execution_count": null,
      "outputs": []
    }
  ]
}