{
  "metadata": {
    "language_info": {
      "codemirror_mode": {
        "name": "python",
        "version": 3
      },
      "file_extension": ".py",
      "mimetype": "text/x-python",
      "name": "python",
      "nbconvert_exporter": "python",
      "pygments_lexer": "ipython3",
      "version": "3.8"
    },
    "kernelspec": {
      "name": "python",
      "display_name": "Python (Pyodide)",
      "language": "python"
    }
  },
  "nbformat_minor": 4,
  "nbformat": 4,
  "cells": [
    {
      "cell_type": "code",
      "source": "import pandas as pd\narray = [1, 3, 5, 7, 9, 11]\nseries_obj = pd.Series(array)\narr = series_obj.values\narr",
      "metadata": {
        "trusted": true
      },
      "execution_count": 8,
      "outputs": [
        {
          "execution_count": 8,
          "output_type": "execute_result",
          "data": {
            "text/plain": "array([ 1,  3,  5,  7,  9, 11], dtype=int64)"
          },
          "metadata": {}
        }
      ]
    },
    {
      "cell_type": "code",
      "source": "reshaped_arr = arr.reshape((3,2))\nreshaped_arr",
      "metadata": {
        "trusted": true
      },
      "execution_count": 9,
      "outputs": [
        {
          "execution_count": 9,
          "output_type": "execute_result",
          "data": {
            "text/plain": "array([[ 1,  3],\n       [ 5,  7],\n       [ 9, 11]], dtype=int64)"
          },
          "metadata": {}
        }
      ]
    },
    {
      "cell_type": "code",
      "source": "import pandas as pd\narray = [\"Srujan\", \"Niloy\", \"Jeet\", \"Indra\", \"Asish\", \"Dwari\"]\nseries_obj = pd.Series(array)\nprint(\"The given series:\\n\", series_obj)\narr = series_obj.values\narr",
      "metadata": {
        "trusted": true
      },
      "execution_count": 11,
      "outputs": [
        {
          "name": "stdout",
          "text": "The given series:\n 0    Srujan\n1     Niloy\n2      Jeet\n3     Indra\n4     Asish\n5     Dwari\ndtype: object\n",
          "output_type": "stream"
        },
        {
          "execution_count": 11,
          "output_type": "execute_result",
          "data": {
            "text/plain": "array(['Srujan', 'Niloy', 'Jeet', 'Indra', 'Asish', 'Dwari'], dtype=object)"
          },
          "metadata": {}
        }
      ]
    },
    {
      "cell_type": "code",
      "source": "reshaped_arr = arr.reshape((2, 3))\nprint(\"After Reshaping: \\n\", reshaped_arr)",
      "metadata": {
        "trusted": true
      },
      "execution_count": 12,
      "outputs": [
        {
          "name": "stdout",
          "text": "After Reshaping: \n [['Srujan' 'Niloy' 'Jeet']\n ['Indra' 'Asish' 'Dwari']]\n",
          "output_type": "stream"
        }
      ]
    },
    {
      "cell_type": "code",
      "source": "import pandas as pd\ndata = {\"Name\": [\"Alice\", \"Bob\", \"Charlie\", \"Alice\", \"Bob\", \"Charlie\"],\n        \"Subject\": [\"Math\", \"Math\", \"Math\", \"Science\", \"Science\", \"Science\"],\n        \"Marks\": [80, 90, 70, 85, 95, 75]}\ndf = pd.DataFrame(data)\ndf",
      "metadata": {
        "trusted": true
      },
      "execution_count": 13,
      "outputs": [
        {
          "execution_count": 13,
          "output_type": "execute_result",
          "data": {
            "text/plain": "      Name  Subject  Marks\n0    Alice     Math     80\n1      Bob     Math     90\n2  Charlie     Math     70\n3    Alice  Science     85\n4      Bob  Science     95\n5  Charlie  Science     75",
            "text/html": "<div>\n<style scoped>\n    .dataframe tbody tr th:only-of-type {\n        vertical-align: middle;\n    }\n\n    .dataframe tbody tr th {\n        vertical-align: top;\n    }\n\n    .dataframe thead th {\n        text-align: right;\n    }\n</style>\n<table border=\"1\" class=\"dataframe\">\n  <thead>\n    <tr style=\"text-align: right;\">\n      <th></th>\n      <th>Name</th>\n      <th>Subject</th>\n      <th>Marks</th>\n    </tr>\n  </thead>\n  <tbody>\n    <tr>\n      <th>0</th>\n      <td>Alice</td>\n      <td>Math</td>\n      <td>80</td>\n    </tr>\n    <tr>\n      <th>1</th>\n      <td>Bob</td>\n      <td>Math</td>\n      <td>90</td>\n    </tr>\n    <tr>\n      <th>2</th>\n      <td>Charlie</td>\n      <td>Math</td>\n      <td>70</td>\n    </tr>\n    <tr>\n      <th>3</th>\n      <td>Alice</td>\n      <td>Science</td>\n      <td>85</td>\n    </tr>\n    <tr>\n      <th>4</th>\n      <td>Bob</td>\n      <td>Science</td>\n      <td>95</td>\n    </tr>\n    <tr>\n      <th>5</th>\n      <td>Charlie</td>\n      <td>Science</td>\n      <td>75</td>\n    </tr>\n  </tbody>\n</table>\n</div>"
          },
          "metadata": {}
        }
      ]
    },
    {
      "cell_type": "code",
      "source": "pivoted_df = df.pivot(index = \"Name\", columns = \"Subject\", values = \"Marks\")\nprint(pivoted_df)",
      "metadata": {
        "trusted": true
      },
      "execution_count": 14,
      "outputs": [
        {
          "name": "stdout",
          "text": "Subject  Math  Science\nName                  \nAlice      80       85\nBob        90       95\nCharlie    70       75\n",
          "output_type": "stream"
        }
      ]
    },
    {
      "cell_type": "code",
      "source": "import pandas as pd\ndata = {\"Name\": [\"Aarav\", \"Alisha\", \"Ananya\", \"Dev\", \"Ishaan\", \"Kavya\"],\n        \"Gender\": [\"Male\", \"Female\", \"Female\", \"Male\", \"Male\", \"Female\"],\n        \"Age\": [28, 21, 24, 32, 26, 29]}\ndf = pd.DataFrame(data)\nprint(\"Dataset\")\nprint(df)\nprint(\"-\"*40)\ndef age_group(age):\n    if age <= 18:\n        return \"less than 18\"\n    else:\n        return \"greater than 18\"\n    \ndf[\"Age Group\"] = df[\"Age\"].apply(age_group)\n\ngender = pd.DataFrame(df.Gender.value_counts(normalize=True)*100).reset_index()\ngender.columns = ['Gender', '%Gender']\ndf = pd.merge(left=df, right=gender, how='inner', on=['Gender'])\n\ntable = pd.pivot_table(df, index=['Gender', '%Gender', 'Age Group'],\nvalues=['Name'], aggfunc={'Name': 'count',})\nprint(\"Table\")\nprint(table)",
      "metadata": {
        "trusted": true
      },
      "execution_count": 16,
      "outputs": [
        {
          "name": "stdout",
          "text": "Dataset\n     Name  Gender  Age\n0   Aarav    Male   28\n1  Alisha  Female   21\n2  Ananya  Female   24\n3     Dev    Male   32\n4  Ishaan    Male   26\n5   Kavya  Female   29\n----------------------------------------\nTable\n                                Name\nGender %Gender Age Group            \nFemale 50.0    greater than 18     3\nMale   50.0    greater than 18     3\n",
          "output_type": "stream"
        }
      ]
    },
    {
      "cell_type": "code",
      "source": "",
      "metadata": {},
      "execution_count": null,
      "outputs": []
    },
    {
      "cell_type": "code",
      "source": "",
      "metadata": {},
      "execution_count": null,
      "outputs": []
    },
    {
      "cell_type": "code",
      "source": "",
      "metadata": {},
      "execution_count": null,
      "outputs": []
    },
    {
      "cell_type": "code",
      "source": "",
      "metadata": {},
      "execution_count": null,
      "outputs": []
    },
    {
      "cell_type": "code",
      "source": "",
      "metadata": {},
      "execution_count": null,
      "outputs": []
    },
    {
      "cell_type": "code",
      "source": "",
      "metadata": {},
      "execution_count": null,
      "outputs": []
    },
    {
      "cell_type": "code",
      "source": "",
      "metadata": {},
      "execution_count": null,
      "outputs": []
    }
  ]
}